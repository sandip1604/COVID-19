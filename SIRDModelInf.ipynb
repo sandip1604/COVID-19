{
 "cells": [
  {
   "cell_type": "code",
   "execution_count": 1,
   "metadata": {},
   "outputs": [],
   "source": [
    "import pandas as pd\n",
    "#Import daily data from john hopkins database\n",
    "urlinf = 'https://raw.githubusercontent.com/CSSEGISandData/COVID-19/master/csse_covid_19_data/csse_covid_19_time_series/time_series_covid19_confirmed_global.csv'\n",
    "infected = pd.read_csv(urlinf, error_bad_lines=False)\n",
    "urldeaths = 'https://raw.githubusercontent.com/CSSEGISandData/COVID-19/master/csse_covid_19_data/csse_covid_19_time_series/time_series_covid19_deaths_global.csv'\n",
    "deaths = pd.read_csv(urldeaths, error_bad_lines=False)\n",
    "urlrecovered = 'https://raw.githubusercontent.com/CSSEGISandData/COVID-19/master/csse_covid_19_data/csse_covid_19_time_series/time_series_covid19_recovered_global.csv'\n",
    "recovered = pd.read_csv(urlrecovered, error_bad_lines=False)\n",
    "#Delete Lat and Long columns\n",
    "infected = infected.drop([\"Province/State\",\"Lat\",\"Long\"], axis=1)\n",
    "deaths = deaths.drop([\"Province/State\",\"Lat\",\"Long\"], axis=1)\n",
    "recovered = recovered.drop([\"Province/State\",\"Lat\",\"Long\"], axis=1)\n",
    "\n",
    "infected = infected.groupby(by=['Country/Region'], as_index=False).sum()\n",
    "deaths = deaths.groupby(by=['Country/Region'], as_index=False).sum()\n",
    "recovered = recovered.groupby(by=['Country/Region'], as_index=False).sum()"
   ]
  },
  {
   "cell_type": "code",
   "execution_count": 2,
   "metadata": {},
   "outputs": [],
   "source": [
    "Selection = 'US'\n",
    "startday = 60"
   ]
  },
  {
   "cell_type": "code",
   "execution_count": 3,
   "metadata": {},
   "outputs": [],
   "source": [
    "infected.insert(1, 'Status', 'infected')\n",
    "recovered.insert(1, 'Status', 'recovered')\n",
    "deaths.insert(1, 'Status', 'death')"
   ]
  },
  {
   "cell_type": "code",
   "execution_count": 4,
   "metadata": {},
   "outputs": [
    {
     "data": {
      "text/html": [
       "<div>\n",
       "<style scoped>\n",
       "    .dataframe tbody tr th:only-of-type {\n",
       "        vertical-align: middle;\n",
       "    }\n",
       "\n",
       "    .dataframe tbody tr th {\n",
       "        vertical-align: top;\n",
       "    }\n",
       "\n",
       "    .dataframe thead th {\n",
       "        text-align: right;\n",
       "    }\n",
       "</style>\n",
       "<table border=\"1\" class=\"dataframe\">\n",
       "  <thead>\n",
       "    <tr style=\"text-align: right;\">\n",
       "      <th></th>\n",
       "      <th>Country/Region</th>\n",
       "      <th>Status</th>\n",
       "      <th>1/22/20</th>\n",
       "      <th>1/23/20</th>\n",
       "      <th>1/24/20</th>\n",
       "      <th>1/25/20</th>\n",
       "      <th>1/26/20</th>\n",
       "      <th>1/27/20</th>\n",
       "      <th>1/28/20</th>\n",
       "      <th>1/29/20</th>\n",
       "      <th>...</th>\n",
       "      <th>5/9/20</th>\n",
       "      <th>5/10/20</th>\n",
       "      <th>5/11/20</th>\n",
       "      <th>5/12/20</th>\n",
       "      <th>5/13/20</th>\n",
       "      <th>5/14/20</th>\n",
       "      <th>5/15/20</th>\n",
       "      <th>5/16/20</th>\n",
       "      <th>5/17/20</th>\n",
       "      <th>5/18/20</th>\n",
       "    </tr>\n",
       "  </thead>\n",
       "  <tbody>\n",
       "    <tr>\n",
       "      <td>0</td>\n",
       "      <td>Afghanistan</td>\n",
       "      <td>infected</td>\n",
       "      <td>0</td>\n",
       "      <td>0</td>\n",
       "      <td>0</td>\n",
       "      <td>0</td>\n",
       "      <td>0</td>\n",
       "      <td>0</td>\n",
       "      <td>0</td>\n",
       "      <td>0</td>\n",
       "      <td>...</td>\n",
       "      <td>4033</td>\n",
       "      <td>4402</td>\n",
       "      <td>4687</td>\n",
       "      <td>4963</td>\n",
       "      <td>5226</td>\n",
       "      <td>5639</td>\n",
       "      <td>6053</td>\n",
       "      <td>6402</td>\n",
       "      <td>6664</td>\n",
       "      <td>7072</td>\n",
       "    </tr>\n",
       "    <tr>\n",
       "      <td>1</td>\n",
       "      <td>Albania</td>\n",
       "      <td>infected</td>\n",
       "      <td>0</td>\n",
       "      <td>0</td>\n",
       "      <td>0</td>\n",
       "      <td>0</td>\n",
       "      <td>0</td>\n",
       "      <td>0</td>\n",
       "      <td>0</td>\n",
       "      <td>0</td>\n",
       "      <td>...</td>\n",
       "      <td>856</td>\n",
       "      <td>868</td>\n",
       "      <td>872</td>\n",
       "      <td>876</td>\n",
       "      <td>880</td>\n",
       "      <td>898</td>\n",
       "      <td>916</td>\n",
       "      <td>933</td>\n",
       "      <td>946</td>\n",
       "      <td>948</td>\n",
       "    </tr>\n",
       "    <tr>\n",
       "      <td>2</td>\n",
       "      <td>Algeria</td>\n",
       "      <td>infected</td>\n",
       "      <td>0</td>\n",
       "      <td>0</td>\n",
       "      <td>0</td>\n",
       "      <td>0</td>\n",
       "      <td>0</td>\n",
       "      <td>0</td>\n",
       "      <td>0</td>\n",
       "      <td>0</td>\n",
       "      <td>...</td>\n",
       "      <td>5558</td>\n",
       "      <td>5723</td>\n",
       "      <td>5891</td>\n",
       "      <td>6067</td>\n",
       "      <td>6253</td>\n",
       "      <td>6442</td>\n",
       "      <td>6629</td>\n",
       "      <td>6821</td>\n",
       "      <td>7019</td>\n",
       "      <td>7201</td>\n",
       "    </tr>\n",
       "    <tr>\n",
       "      <td>3</td>\n",
       "      <td>Andorra</td>\n",
       "      <td>infected</td>\n",
       "      <td>0</td>\n",
       "      <td>0</td>\n",
       "      <td>0</td>\n",
       "      <td>0</td>\n",
       "      <td>0</td>\n",
       "      <td>0</td>\n",
       "      <td>0</td>\n",
       "      <td>0</td>\n",
       "      <td>...</td>\n",
       "      <td>754</td>\n",
       "      <td>755</td>\n",
       "      <td>755</td>\n",
       "      <td>758</td>\n",
       "      <td>760</td>\n",
       "      <td>761</td>\n",
       "      <td>761</td>\n",
       "      <td>761</td>\n",
       "      <td>761</td>\n",
       "      <td>761</td>\n",
       "    </tr>\n",
       "    <tr>\n",
       "      <td>4</td>\n",
       "      <td>Angola</td>\n",
       "      <td>infected</td>\n",
       "      <td>0</td>\n",
       "      <td>0</td>\n",
       "      <td>0</td>\n",
       "      <td>0</td>\n",
       "      <td>0</td>\n",
       "      <td>0</td>\n",
       "      <td>0</td>\n",
       "      <td>0</td>\n",
       "      <td>...</td>\n",
       "      <td>43</td>\n",
       "      <td>45</td>\n",
       "      <td>45</td>\n",
       "      <td>45</td>\n",
       "      <td>45</td>\n",
       "      <td>48</td>\n",
       "      <td>48</td>\n",
       "      <td>48</td>\n",
       "      <td>48</td>\n",
       "      <td>50</td>\n",
       "    </tr>\n",
       "  </tbody>\n",
       "</table>\n",
       "<p>5 rows × 120 columns</p>\n",
       "</div>"
      ],
      "text/plain": [
       "  Country/Region    Status  1/22/20  1/23/20  1/24/20  1/25/20  1/26/20  \\\n",
       "0    Afghanistan  infected        0        0        0        0        0   \n",
       "1        Albania  infected        0        0        0        0        0   \n",
       "2        Algeria  infected        0        0        0        0        0   \n",
       "3        Andorra  infected        0        0        0        0        0   \n",
       "4         Angola  infected        0        0        0        0        0   \n",
       "\n",
       "   1/27/20  1/28/20  1/29/20  ...  5/9/20  5/10/20  5/11/20  5/12/20  5/13/20  \\\n",
       "0        0        0        0  ...    4033     4402     4687     4963     5226   \n",
       "1        0        0        0  ...     856      868      872      876      880   \n",
       "2        0        0        0  ...    5558     5723     5891     6067     6253   \n",
       "3        0        0        0  ...     754      755      755      758      760   \n",
       "4        0        0        0  ...      43       45       45       45       45   \n",
       "\n",
       "   5/14/20  5/15/20  5/16/20  5/17/20  5/18/20  \n",
       "0     5639     6053     6402     6664     7072  \n",
       "1      898      916      933      946      948  \n",
       "2     6442     6629     6821     7019     7201  \n",
       "3      761      761      761      761      761  \n",
       "4       48       48       48       48       50  \n",
       "\n",
       "[5 rows x 120 columns]"
      ]
     },
     "execution_count": 4,
     "metadata": {},
     "output_type": "execute_result"
    }
   ],
   "source": [
    "dfs = [deaths, recovered]\n",
    "data = infected.append(dfs)\n",
    "#total_rows1 = df['Country/Region'].count\n",
    "#print (total_rows1)\n",
    "data.head()"
   ]
  },
  {
   "cell_type": "code",
   "execution_count": 5,
   "metadata": {
    "scrolled": false
   },
   "outputs": [],
   "source": [
    "database = data.melt(id_vars=[\"Country/Region\", \"Status\"], \n",
    "            var_name=\"Date\", \n",
    "            value_name=\"Value\")\n",
    "database.columns = ['Country', 'Status','Date','Value']"
   ]
  },
  {
   "cell_type": "code",
   "execution_count": 7,
   "metadata": {},
   "outputs": [
    {
     "data": {
      "text/html": [
       "<div>\n",
       "<style scoped>\n",
       "    .dataframe tbody tr th:only-of-type {\n",
       "        vertical-align: middle;\n",
       "    }\n",
       "\n",
       "    .dataframe tbody tr th {\n",
       "        vertical-align: top;\n",
       "    }\n",
       "\n",
       "    .dataframe thead th {\n",
       "        text-align: right;\n",
       "    }\n",
       "</style>\n",
       "<table border=\"1\" class=\"dataframe\">\n",
       "  <thead>\n",
       "    <tr style=\"text-align: right;\">\n",
       "      <th></th>\n",
       "      <th>Country</th>\n",
       "      <th>Status</th>\n",
       "      <th>Date</th>\n",
       "      <th>Value</th>\n",
       "    </tr>\n",
       "  </thead>\n",
       "  <tbody>\n",
       "    <tr>\n",
       "      <td>174</td>\n",
       "      <td>US</td>\n",
       "      <td>infected</td>\n",
       "      <td>1/22/20</td>\n",
       "      <td>1</td>\n",
       "    </tr>\n",
       "    <tr>\n",
       "      <td>738</td>\n",
       "      <td>US</td>\n",
       "      <td>infected</td>\n",
       "      <td>1/23/20</td>\n",
       "      <td>1</td>\n",
       "    </tr>\n",
       "    <tr>\n",
       "      <td>1302</td>\n",
       "      <td>US</td>\n",
       "      <td>infected</td>\n",
       "      <td>1/24/20</td>\n",
       "      <td>2</td>\n",
       "    </tr>\n",
       "    <tr>\n",
       "      <td>1866</td>\n",
       "      <td>US</td>\n",
       "      <td>infected</td>\n",
       "      <td>1/25/20</td>\n",
       "      <td>2</td>\n",
       "    </tr>\n",
       "    <tr>\n",
       "      <td>2430</td>\n",
       "      <td>US</td>\n",
       "      <td>infected</td>\n",
       "      <td>1/26/20</td>\n",
       "      <td>5</td>\n",
       "    </tr>\n",
       "  </tbody>\n",
       "</table>\n",
       "</div>"
      ],
      "text/plain": [
       "     Country    Status     Date  Value\n",
       "174       US  infected  1/22/20      1\n",
       "738       US  infected  1/23/20      1\n",
       "1302      US  infected  1/24/20      2\n",
       "1866      US  infected  1/25/20      2\n",
       "2430      US  infected  1/26/20      5"
      ]
     },
     "execution_count": 7,
     "metadata": {},
     "output_type": "execute_result"
    }
   ],
   "source": [
    "inf = database.loc[(database['Country'] == Selection) & (database['Status'] == 'infected')]\n",
    "rec = database.loc[(database['Country'] == Selection) & (database['Status'] == 'recovered')]\n",
    "dea = database.loc[(database['Country'] == Selection) & (database['Status'] == 'death')]\n",
    "inf.head()"
   ]
  },
  {
   "cell_type": "code",
   "execution_count": 12,
   "metadata": {},
   "outputs": [
    {
     "data": {
      "text/plain": [
       "41"
      ]
     },
     "execution_count": 12,
     "metadata": {},
     "output_type": "execute_result"
    }
   ],
   "source": [
    "import numpy as np\n",
    "inflist = inf[\"Value\"].tolist()\n",
    "reclist = rec[\"Value\"].tolist()\n",
    "dealist = dea[\"Value\"].tolist()\n",
    "I_data = np.asarray(inflist)\n",
    "R_data = np.asarray(reclist)\n",
    "D_data = np.asarray(dealist) \n",
    "Days = np.linspace(0,len(I_data)-startday,len(I_data)-startday)\n",
    "D_data[50]"
   ]
  },
  {
   "cell_type": "code",
   "execution_count": 13,
   "metadata": {},
   "outputs": [],
   "source": [
    "import pylab as pp\n",
    "import numpy as np\n",
    "from scipy import integrate, interpolate\n",
    "from scipy import optimize\n",
    "\n",
    "##initialize the data\n",
    "def f(y, t, k): \n",
    "    \"\"\"define the ODE system in terms of \n",
    "        dependent variable y,\n",
    "        independent variable t, and\n",
    "        optinal parmaeters, in this case a single variable k \"\"\"\n",
    "    S = y[0]\n",
    "    I = y[1]\n",
    "    R = y[2]\n",
    "    D = y[3]\n",
    "    a = k[0]\n",
    "    r = k[1]\n",
    "    d = k[2]\n",
    "    return (-k[0]*y[0]*y[1], (k[0]*y[0]*y[1])-((k[1]+k[2])*y[1]), k[1]*y[1] ,k[2]*y[1])\n",
    "\n",
    "def my_ls_func(x,teta):\n",
    "    \"\"\"definition of function for LS fit\n",
    "        x gives evaluation points,\n",
    "        teta is an array of parameters to be varied for fit\"\"\"\n",
    "    # create an alias to f which passes the optional params    \n",
    "    f2 = lambda y,t: f(y, t, teta)\n",
    "    # calculate ode solution, retuen values for each entry of \"x\"\n",
    "    r = integrate.odeint(f2,y0,x)\n",
    "    #in this case, we only need one of the dependent variable values\n",
    "    return r[:,2]\n",
    "\n",
    "def f_resid(p):\n",
    "    \"\"\" function to pass to optimize.leastsq\n",
    "        The routine will square and sum the values returned by \n",
    "        (f_resid,guess)this function\"\"\"\n",
    "  \n",
    "    return I_data[startday:]-my_ls_func(Days,p)\n"
   ]
  },
  {
   "cell_type": "code",
   "execution_count": 14,
   "metadata": {},
   "outputs": [
    {
     "name": "stderr",
     "output_type": "stream",
     "text": [
      "C:\\Users\\User\\Anaconda3\\lib\\site-packages\\scipy\\integrate\\odepack.py:247: ODEintWarning: Excess work done on this call (perhaps wrong Dfun type). Run with full_output = 1 to get quantitative information.\n",
      "  warnings.warn(warning_msg, ODEintWarning)\n"
     ]
    },
    {
     "name": "stdout",
     "output_type": "stream",
     "text": [
      "parameter values are  [ 5.56902806e+07  5.95159170e-01 -5.96412868e-01]\n"
     ]
    },
    {
     "data": {
      "image/png": "[encoded data removed]",
      "text/plain": [
       "<Figure size 432x288 with 1 Axes>"
      ]
     },
     "metadata": {
      "needs_background": "light"
     },
     "output_type": "display_data"
    }
   ],
   "source": [
    "from scipy.optimize import least_squares\n",
    "import matplotlib.pyplot as plt\n",
    "#solve the system - the solution is in variable c\n",
    "guess = [1.27445112,0.1977401,0.07671102] #initial guess for params\n",
    "y0 = [10000,I_data[startday],R_data[startday],D_data[startday]] #inital conditions for ODEs\n",
    "(c,kvg) = optimize.leastsq(f_resid,guess)#get params\n",
    "print (\"parameter values are \",c)\n",
    "\n",
    "# fit ODE results to interpolating spline just for fun\n",
    "xeval=np.linspace(min(Days),max(Days),len(Days)) \n",
    "gls = interpolate.UnivariateSpline(xeval, my_ls_func(xeval,c), k=5, s=1)\n",
    "#pick a few more points for a very smooth curve, then plot \n",
    "#   data and curve fit\n",
    "xeval=np.linspace(min(Days),100,len(Days))\n",
    "\n",
    "#Plot of the data as red dots and fit as blue line\n",
    "plt.plot(Days, I_data[startday:],'.r',xeval,gls(xeval),'darkcyan')\n",
    "plt.title('Data and Model Fit for the Number of Infected')\n",
    "plt.xlabel('Days from March 22',{\"fontsize\":12})\n",
    "plt.ylabel(\"Infected (millions)\",{\"fontsize\":12})\n",
    "plt.legend(('data','fit'),loc=0)\n",
    "plt.ticklabel_format(style='sci', axis='y', scilimits=(0,0))\n",
    "plt.savefig(\"Infectedfit.png\",dpi=400)\n",
    "plt.show()"
   ]
  },
  {
   "cell_type": "code",
   "execution_count": 15,
   "metadata": {
    "scrolled": true
   },
   "outputs": [],
   "source": [
    "a = np.transpose(I_data[startday:] + D_data[startday:])\n",
    "R0 = (I_data[startday:] + R_data[startday:] + D_data[startday:])/(R_data[startday:] + D_data[startday:])\n",
    "d = D_data[startday:]/(I_data[startday:] - R_data[startday:] - D_data[startday:])\n",
    "r = R_data[startday:]/(I_data[startday:] - R_data[startday:] - D_data[startday:])\n",
    "a = R0*(r+d)"
   ]
  },
  {
   "cell_type": "code",
   "execution_count": 16,
   "metadata": {},
   "outputs": [
    {
     "data": {
      "text/plain": [
       "array([0.0054749 , 0.00415122, 0.00664376, 0.00563174, 0.00836311,\n",
       "       0.00882028, 0.00911084, 0.01976651, 0.0371328 , 0.03995881,\n",
       "       0.04274035, 0.03970446, 0.03785675, 0.0517477 , 0.05683776,\n",
       "       0.05882971, 0.06059298, 0.06090351, 0.06091845, 0.06463679,\n",
       "       0.06642112, 0.06647603, 0.08538154, 0.09017927, 0.09445895,\n",
       "       0.09463172, 0.09696894, 0.10331355, 0.10862404, 0.1080605 ,\n",
       "       0.10874309, 0.10811755, 0.10849342, 0.13126767, 0.1280211 ,\n",
       "       0.13308356, 0.13579118, 0.13830042, 0.14066291, 0.18058702,\n",
       "       0.18755224, 0.19688411, 0.19792443, 0.20251592, 0.20115719,\n",
       "       0.19660112, 0.1977401 , 0.19746149, 0.20873072, 0.20914892,\n",
       "       0.22497888, 0.21792354, 0.22903363, 0.22701301, 0.22701343,\n",
       "       0.24162998, 0.24202839, 0.24954375])"
      ]
     },
     "execution_count": 16,
     "metadata": {},
     "output_type": "execute_result"
    }
   ],
   "source": [
    "my_ls_func(xeval,c)\n",
    "r"
   ]
  },
  {
   "cell_type": "code",
   "execution_count": 17,
   "metadata": {},
   "outputs": [
    {
     "data": {
      "image/png": "[encoded data removed]",
      "text/plain": [
       "<Figure size 432x288 with 1 Axes>"
      ]
     },
     "metadata": {
      "needs_background": "light"
     },
     "output_type": "display_data"
    }
   ],
   "source": [
    "import seaborn as sns\n",
    "import matplotlib.pyplot as plt\n",
    "plt.plot(Days,R0,'-o')\n",
    "plt.title('Basic Reproduction Number Evolution')\n",
    "plt.xlabel('Days from March 22')\n",
    "plt.ylabel(\"R0\")\n",
    "plt.grid()\n",
    "plt.savefig('R0.png',dpi=400)\n",
    "pp.show()"
   ]
  },
  {
   "cell_type": "code",
   "execution_count": 18,
   "metadata": {},
   "outputs": [
    {
     "data": {
      "image/png": "[encoded data removed]",
      "text/plain": [
       "<Figure size 432x288 with 2 Axes>"
      ]
     },
     "metadata": {},
     "output_type": "display_data"
    }
   ],
   "source": [
    "import matplotlib.pyplot as plt\n",
    "\n",
    "\n",
    "def make_patch_spines_invisible(ax):\n",
    "    ax.set_frame_on(True)\n",
    "    ax.patch.set_visible(False)\n",
    "    for sp in ax.spines.values():\n",
    "        sp.set_visible(False)\n",
    "\n",
    "\n",
    "fig, host = plt.subplots()\n",
    "fig.subplots_adjust(right=0.75)\n",
    "\n",
    "par1 = host.twinx()\n",
    "\n",
    "# Offset the right spine of par2.  The ticks and label have already been\n",
    "# placed on the right by twinx above.\n",
    "# Having been created by twinx, par2 has its frame off, so the line of its\n",
    "# detached spine is invisible.  First, activate the frame but make the patch\n",
    "# and spines invisible.\n",
    "# Second, show the right spine.\n",
    "\n",
    "p1, = host.plot(Days, r, \"gray\", label=\"r\")\n",
    "p2, = par1.plot(Days, d, \"darkcyan\", label=\"d\")\n",
    "\n",
    "host.set_xlim(0, len(Days))\n",
    "host.set_ylim(0, 0.3)\n",
    "par1.set_ylim(0, 0.1)\n",
    "\n",
    "host.set_xlabel(\"Days from March 22\")\n",
    "host.set_ylabel(\"Recovery Rate\")\n",
    "par1.set_ylabel(\"Mortality Rate\")\n",
    "\n",
    "host.yaxis.label.set_color(p1.get_color())\n",
    "par1.yaxis.label.set_color(p2.get_color())\n",
    "\n",
    "tkw = dict(size=4, width=1.5)\n",
    "host.tick_params(axis='y', colors=p1.get_color(), **tkw)\n",
    "par1.tick_params(axis='y', colors=p2.get_color(), **tkw)\n",
    "host.tick_params(axis='x', **tkw)\n",
    "\n",
    "lines = [p1, p2]\n",
    "\n",
    "host.legend(lines, [l.get_label() for l in lines])\n",
    "plt.title('Recovery and Mortality Rates Evolution')\n",
    "plt.grid()\n",
    "plt.show()\n",
    "fig.savefig('rates.png',dpi=400)"
   ]
  },
  {
   "cell_type": "code",
   "execution_count": null,
   "metadata": {},
   "outputs": [],
   "source": []
  }
 ],
 "metadata": {
  "kernelspec": {
   "display_name": "Python 3",
   "language": "python",
   "name": "python3"
  },
  "language_info": {
   "codemirror_mode": {
    "name": "ipython",
    "version": 3
   },
   "file_extension": ".py",
   "mimetype": "text/x-python",
   "name": "python",
   "nbconvert_exporter": "python",
   "pygments_lexer": "ipython3",
   "version": "3.7.4"
  }
 },
 "nbformat": 4,
 "nbformat_minor": 2
}
